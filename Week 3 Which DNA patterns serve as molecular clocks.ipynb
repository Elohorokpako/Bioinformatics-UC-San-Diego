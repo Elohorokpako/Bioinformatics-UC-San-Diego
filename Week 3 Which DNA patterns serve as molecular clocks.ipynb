{
 "cells": [
  {
   "cell_type": "markdown",
   "id": "275412c4",
   "metadata": {},
   "source": [
    "### Question 1:\n",
    "Code Challenge: Implement MotifEnumeration (reproduced below).\n",
    "\n",
    "Input: Integers k and d, followed by a space-separated collection of strings Dna.\n",
    "\n",
    "Output: All (k, d)-motifs in Dna.\n",
    "\n",
    "Sample Input:\n",
    "\n",
    "3 1\n",
    "\n",
    "ATTTGGC TGCCTTA CGGTATC GAAAATT\n",
    "\n",
    "Sample Output:\n",
    "\n",
    "ATA ATT GTT TTT"
   ]
  },
  {
   "cell_type": "code",
   "execution_count": 1,
   "id": "dfd278be",
   "metadata": {},
   "outputs": [],
   "source": [
    "#calling the dependencies from previous functions\n",
    "def hamming_distance(a,b):\n",
    "    answer=sum([1 for i in range(len(a)) if a[i]!=b[i]])\n",
    "    return answer\n",
    "def neighbors(pattern, d):\n",
    "    if d == 0:\n",
    "        return {pattern}\n",
    "    if len(pattern) == 1:\n",
    "        return {'A', 'C', 'G', 'T'}\n",
    "    neighborhood = set()\n",
    "    suffix_neighbors = neighbors(pattern[1:], d)\n",
    "    for text in suffix_neighbors:\n",
    "        if hamming_distance(pattern[1:], text) < d:\n",
    "            for nucleotide in ['A', 'C', 'G', 'T']:\n",
    "                neighborhood.add(nucleotide + text)\n",
    "        else:\n",
    "            neighborhood.add(pattern[0] + text)\n",
    "    return neighborhood\n",
    "\n",
    "def motif_enumeration(dna,k,d):\n",
    "    kmer=[set() for i in range(len(dna))] #this code creates a list of sets to store the neighbors of kmers\n",
    "    for pos,pattern in enumerate(dna):\n",
    "        for j in range(len(pattern)-k+1):\n",
    "            kmer[pos].update(neighbors(pattern[j:j+k],d))\n",
    "            \n",
    "    #the codes below uses a for loop to create the intersection of the sets.\n",
    "    answer=kmer[0]\n",
    "    for i in range(1,len(kmer)):\n",
    "        answer=answer.intersection(kmer[i])\n",
    "    return answer"
   ]
  },
  {
   "cell_type": "code",
   "execution_count": 2,
   "id": "a223e563",
   "metadata": {},
   "outputs": [
    {
     "name": "stdout",
     "output_type": "stream",
     "text": [
      "ATA GTT ATT TTT\n"
     ]
    }
   ],
   "source": [
    "dna=['ATTTGGC', 'TGCCTTA', 'CGGTATC', 'GAAAATT']\n",
    "k=3\n",
    "d=1\n",
    "print(*motif_enumeration(dna,k,d))"
   ]
  },
  {
   "cell_type": "markdown",
   "id": "0e31cd15",
   "metadata": {},
   "source": [
    "##### Actual Dataset"
   ]
  },
  {
   "cell_type": "code",
   "execution_count": 3,
   "id": "d04a163a",
   "metadata": {},
   "outputs": [
    {
     "name": "stdout",
     "output_type": "stream",
     "text": [
      "ACAAC AAACA CCAAA TCAAA AAAAC CAAAA ACAAA GCAAA CAAAC GACAA GAAAA TAACA\n"
     ]
    }
   ],
   "source": [
    "dna=[\"CAGAAACAAAATGCCTCGTAGTGAG\", \"CTTTGACAAACCCATGGAGTAAATA\", \"CTGTTGCAAAGATAACTGTTAGAGA\",\n",
    "     \"TACAGACAAAATACATACCCAACAC\", \"CCAACCGCGTGCCAGAACAGCCAAA\", \"TGGGCTAGGGGCAAACTATTACAAT\"]\n",
    "k=5\n",
    "d=1\n",
    "print(*motif_enumeration(dna,k,d))"
   ]
  },
  {
   "cell_type": "markdown",
   "id": "7d2633b0",
   "metadata": {},
   "source": [
    "### Question 2\n",
    "Code Challenge: Implement MedianString.\n",
    "\n",
    "Input: An integer k, followed by a space-separated collection of strings Dna.\n",
    "\n",
    "Output: A k-mer Pattern that minimizes d(Pattern, Dna) among all possible choices of k-mers. (If there are multiple such strings Pattern, then you may return any one.)\n",
    "\n",
    "Sample Input:\n",
    "\n",
    "3\n",
    "\n",
    "AAATTGACGCAT GACGACCACGTT CGTCAGCGCCTG GCTGAGCACCGG AGTTCGGGACAG\n",
    "\n",
    "Sample Output:\n",
    "\n",
    "GAC"
   ]
  },
  {
   "cell_type": "code",
   "execution_count": 183,
   "id": "79099eb6",
   "metadata": {},
   "outputs": [],
   "source": [
    "def hamming_distance(a,b):\n",
    "    answer=sum([1 for i in range(len(a)) if a[i]!=b[i]])\n",
    "    return answer\n",
    "\n",
    "def median_string(dna,k):\n",
    "    kmer_list = []\n",
    "    for line in dna:\n",
    "        for i in range(len(line) - k+1):\n",
    "            pattern = line[i:i+k]\n",
    "            if pattern not in kmer_list:\n",
    "                kmer_list.append(pattern)\n",
    "         \n",
    "        distance = float('inf')\n",
    "        for kmer in kmer_list:\n",
    "            for i in range(len(line) - k+1):\n",
    "                if distance > hamming_distance(kmer, line[i:i+k]):\n",
    "                    distance = hamming_distance(kmer, line[i:i+k])\n",
    "                    median = kmer\n",
    "    return(median)"
   ]
  },
  {
   "cell_type": "code",
   "execution_count": 184,
   "id": "85a999ea",
   "metadata": {},
   "outputs": [
    {
     "name": "stdout",
     "output_type": "stream",
     "text": [
      "GAC\n"
     ]
    }
   ],
   "source": [
    "dna=[\"AAATTGACGCAT\", \"GACGACCACGTT\", \"CGTCAGCGCCTG\", \"GCTGAGCACCGG\", \"AGTTCGGGACAG\"]\n",
    "k=3\n",
    "print(median_string(dna,k))"
   ]
  },
  {
   "cell_type": "markdown",
   "id": "359249de",
   "metadata": {},
   "source": [
    "##### Actual Dataset\n"
   ]
  },
  {
   "cell_type": "code",
   "execution_count": 37,
   "id": "c2b15a7c",
   "metadata": {},
   "outputs": [
    {
     "name": "stdout",
     "output_type": "stream",
     "text": [
      "CCTGCA\n"
     ]
    }
   ],
   "source": [
    "dna=[\n",
    "\"CCAGGGGCCGCAGTGACCCAGACGAGCGAGCTTTCGCCTGCA\",\"AAGTGACCTGAAAGAATGCTAAAAGCACTGAGTTAAAACAGT\",\n",
    "\"ACAATGCCTGGACCGTTGTTTCAAGAAGTTAACCGAGTAGTT\",\"CCTGGACAAGAGTGGCGCATTTTTGGGAATTCGAGGACACTA\",\n",
    "\"GTCAACGCAAATTCCGGGCCTGAACTATAGTGCAACAACTGT\",\"GAAGAAACGTCGGTGTGACTCATATTCCCGCCTGAATCAGAT\",\n",
    "\"TGTAGTCCTGGATTGCCTAGCTTGAGCGATCCGCCTCGGGAG\",\"CCTGAAGTCCCGATGGGTTATCTCAGATCGCTAGAGCGCAAT\",\n",
    "\"AATCTATACAACCCTGCATTATGCTCTGGTTCGCCTTGTGCT\",\"TATCGGAGAAACCGAGCCTACTCACCTGCACTCCGCGGAACG\"]\n",
    "k=6\n",
    "print(median_string(dna,k))"
   ]
  },
  {
   "cell_type": "markdown",
   "id": "a0bf2eac",
   "metadata": {},
   "source": [
    "### Question 3\n",
    "\n",
    "Profile-most Probable k-mer Problem: Find a Profile-most probable k-mer in a string.\n",
    "\n",
    "Input: A string Text, an integer k, and a 4 × k matrix Profile.\n",
    "\n",
    "Output: A Profile-most probable k-mer in Text.\n",
    "\n",
    "Code Challenge: Solve the Profile-most Probable k-mer Problem.\n",
    "\n",
    "Sample Input:\n",
    "\n",
    "ACCTGTTTATTGCCTAAGTTCCGAACAAACCCAATATAGCCCGAGGGCCT\n",
    "\n",
    "5\n",
    "\n",
    "0.2 0.2 0.3 0.2 0.3\n",
    "\n",
    "0.4 0.3 0.1 0.5 0.1\n",
    "\n",
    "0.3 0.3 0.5 0.2 0.4\n",
    "\n",
    "0.1 0.2 0.1 0.1 0.2\n",
    "\n",
    "Sample Output:\n",
    "\n",
    "CCGAG"
   ]
  },
  {
   "cell_type": "code",
   "execution_count": 40,
   "id": "c456c5ea",
   "metadata": {},
   "outputs": [],
   "source": [
    "def Pr(Text, Profile):\n",
    "    p=1\n",
    "    k = len(Profile[\"A\"])\n",
    "    for i in range(len(Text)):\n",
    "        p=p*Profile[Text[i]][i]\n",
    "    return p\n",
    "\n",
    "def profile_most_probable_kmer(text, k, profile):\n",
    "    biggest=0\n",
    "    dictionary={}\n",
    "    for i in range(len(text)):\n",
    "        kmer=text[i:k+i]\n",
    "        if len(kmer)<k:\n",
    "            break\n",
    "        probable=Pr(kmer,profile)\n",
    "        if probable>biggest:\n",
    "            biggest=probable\n",
    "            dictionary[kmer]=probable\n",
    "    return list(dictionary.keys())[-1]"
   ]
  },
  {
   "cell_type": "code",
   "execution_count": 42,
   "id": "8b80a628",
   "metadata": {},
   "outputs": [
    {
     "data": {
      "text/plain": [
       "'CCGAG'"
      ]
     },
     "execution_count": 42,
     "metadata": {},
     "output_type": "execute_result"
    }
   ],
   "source": [
    "text=\"ACCTGTTTATTGCCTAAGTTCCGAACAAACCCAATATAGCCCGAGGGCCT\"\n",
    "k=5\n",
    "profile={\"A\":[0.2,0.2,0.3,0.2,0.3],\n",
    "        \"C\":[0.4,0.3,0.1,0.5,0.1],\n",
    "        \"G\":[0.3,0.3,0.5,0.2,0.4],\n",
    "        \"T\":[0.1,0.2,0.1,0.1,0.2]}\n",
    "profile_most_probable_kmer(text,k,profile)"
   ]
  },
  {
   "cell_type": "markdown",
   "id": "f4dc0dbe",
   "metadata": {},
   "source": [
    "##### Actual Dataset"
   ]
  },
  {
   "cell_type": "code",
   "execution_count": 44,
   "id": "72477a4f",
   "metadata": {},
   "outputs": [
    {
     "name": "stdout",
     "output_type": "stream",
     "text": [
      "GATGGGCCCCGCGGC\n"
     ]
    }
   ],
   "source": [
    "text=\"AAACAGGACAAGTGTCCCATCGATAGCCGGTTACGGCAGCCATGGTCTGCATGTTATGATCTGAATAACGAGTTAAAGATTTGATCATTATGTCCGTAGGCCAGTACGACTAACTCCACGACCGCGTTAATATGTAAAGGATGGGCCCCGCGGCTTGGTTGATGCACCGACCAGGTCCTTCCGTCTATCGTAGGGTATCATTCGAACGATCGGCTGCTTCTTCTATTAGACATATCCATAACGGTAGGGGTTCAAACATTGCCCGGCAGTTGCTGATCACATTTTGTTGAAGTGCCAGCTCTTCAGTTGGACGCGGCTTACATGCACATCCTCGGTTATCCCAGGCGTCTTGTAATATCGATTGGCTTTACGTTCAGGAGCGAATAGATCTAGTTAAACGTTCAACTTTACTTCCATGGGGCGTTGCATTCGGCTGATGGTCTCCAAACAACTAGGCTCATTTTTGCCCGGTCGCCCGGCCGTAGTAACGCCCCCGCTTGTAAAGTCCGCAGCCGTTACTACGCGGTAATACTCACAGTGCAGGCTACCAAACGCAAGGCATGCCTTTCTCGATCTGAGATGGAAAACGAAATTGGACTCGCTTACCCGCTCCAGAGAGTCGGGAGAGACGTCGCGCGGGCCTTATCTGGTTTCAGCCGGCTTATACGACAGAGTAACTTACGAGTAGCACGCTCTATCCTGTATAGGTGCTCGGTCCTGTGCCGCCTGTCAGCTCATAGAAAACGCTATAACTGATAATACAATAGCTCCATATCCAAATTTTGCCTCACCTACATAAGTGACCCCCACGACAACTCCATACCGGATTATCAGTACTACTCAATCAAGGCATACTCACCCTGGCTGAGAGATTACAATGGTCCTGCGGTTGACCGAATGTAATGTTTGAGGCAATCTGTAGGAGACCCCGATCACGAGCAGAGAACCATTTTATGGTTGAACATTAGTGGAGTGTCCGCCCTGGGCCTTAAACAGGATA\"\n",
    "k=15\n",
    "profile={\"A\":[0.242, 0.273, 0.197, 0.242, 0.273, 0.273, 0.197, 0.364, 0.167, 0.258, 0.167, 0.273, 0.182, 0.273, 0.227],\n",
    "        \"C\":[0.273, 0.288, 0.167, 0.212, 0.212, 0.242, 0.348, 0.212, 0.303, 0.288, 0.303, 0.288, 0.258, 0.212, 0.333],\n",
    "        \"G\":[0.273, 0.182, 0.333, 0.364, 0.318, 0.258, 0.227, 0.182, 0.333, 0.258, 0.288, 0.212, 0.303, 0.273, 0.273],\n",
    "        \"T\":[0.212, 0.258, 0.303, 0.182, 0.197, 0.227, 0.227, 0.242, 0.197, 0.197, 0.242, 0.227, 0.258, 0.242, 0.167]}\n",
    "\n",
    "print(profile_most_probable_kmer(text,k,profile))\n"
   ]
  },
  {
   "cell_type": "markdown",
   "id": "ec6a813b",
   "metadata": {},
   "source": [
    "### Question 4\n",
    "Code Challenge: Implement GreedyMotifSearch.\n",
    "\n",
    "Input: Integers k and t, followed by a space-separated collection of strings Dna.\n",
    "\n",
    "Output: A collection of strings BestMotifs resulting from applying GreedyMotifSearch(Dna, k, t). If at any step you find more than one Profile-most probable k-mer in a given string, use the one occurring first.\n",
    "\n",
    "Note: If you are not satisfied with the performance of GreedyMotifSearch — even if you implemented it correctly — then wait until we discuss this algorithm in the next lesson.\n",
    "\n",
    "Sample Input:\n",
    "\n",
    "3 5\n",
    "\n",
    "GGCGTTCAGGCA AAGAATCAGTCA CAAGGAGTTCGC CACGTCAATCAC CAATAATATTCG\n",
    "\n",
    "Sample Output:\n",
    "\n",
    "CAG CAG CAA CAA CAA"
   ]
  },
  {
   "cell_type": "code",
   "execution_count": 53,
   "id": "709f654f",
   "metadata": {},
   "outputs": [],
   "source": [
    "def count(Motifs):\n",
    "    count = {}\n",
    "    k = len(Motifs[0])\n",
    "    for symbol in \"ACGT\":\n",
    "        count[symbol] = []\n",
    "        for j in range(k):\n",
    "            count[symbol].append(0)\n",
    "    t = len(Motifs)\n",
    "    for i in range(t):\n",
    "        for j in range(k):\n",
    "            symbol = Motifs[i][j]\n",
    "            count[symbol][j] += 1\n",
    "    return count\n",
    "\n",
    "def consensus(Motifs):\n",
    "    k = len(Motifs[0])\n",
    "    count = count(Motifs)\n",
    "    consensus = \"\"\n",
    "    for j in range(k):\n",
    "        m = 0\n",
    "        frequentSymbol = \"\"\n",
    "        for symbol in \"ACGT\":\n",
    "            if count[symbol][j] > m:\n",
    "                m = count[symbol][j]\n",
    "                frequentSymbol = symbol\n",
    "        consensus += frequentSymbol\n",
    "    return consensus\n",
    "\n",
    "def profile(Motifs):\n",
    "    t = len(Motifs)\n",
    "    k = len(Motifs[0])\n",
    "    profile = count(Motifs)\n",
    "    for i in 'ACTG':\n",
    "        for j in range(k):\n",
    "            profile[i][j] = profile[i][j]/t  \n",
    "    return profile\n",
    "\n",
    "def score(Motifs):\n",
    "    # Insert code here\n",
    "    score = 0\n",
    "    k = len(Motifs[0])\n",
    "    count = count(Motifs)\n",
    "    max_symbol = consensus(Motifs)\n",
    "    sum1 = 0\n",
    "    for j in range(k):\n",
    "        m = 0\n",
    "        for symbol in \"ATCG\":\n",
    "            if count[symbol][j] > m:\n",
    "                sum1 += count[symbol][j]\n",
    "    for j in range(k):\n",
    "        m = 0\n",
    "        for symbol in \"AGTC\":\n",
    "            if count[symbol][j] > m:\n",
    "                m = count[symbol][j]\n",
    "        score += m  \n",
    "    return sum1-score\n",
    "\n",
    "def pr(Text, Profile):\n",
    "    p=1\n",
    "    k = len(Profile[\"A\"])\n",
    "    for i in range(len(Text)):\n",
    "        p=p*Profile[Text[i]][i]\n",
    "    return p\n",
    "\n",
    "\n",
    "def profile_most_probable_pattern(text,k,profile):\n",
    "    p=-1\n",
    "    result=text[0:k]\n",
    "    for i in range(len(text)-k+1):\n",
    "        seq=text[i:i+k]\n",
    "        pr=pr(seq,profile)\n",
    "        if pr>p:\n",
    "            p=pr\n",
    "            result=seq\n",
    "    return result\n",
    "\n",
    "def greedy_motif_search(Dna,k,t):\n",
    "    BestMotifs = []\n",
    "    for i in range(0, t):\n",
    "        BestMotifs.append(Dna[i][0:k])\n",
    "    n = len(Dna[0])\n",
    "    for m in range(n-k+1):\n",
    "        Motifs = []\n",
    "        Motifs.append(Dna[0][m:m+k])\n",
    "        for j in range(1, t):\n",
    "            P = profile(Motifs[0:j])\n",
    "            Motifs.append(profile_most_probable_pattern(Dna[j], k, P))\n",
    "        if score(Motifs) < score(BestMotifs):\n",
    "            BestMotifs = Motifs\n",
    "    return BestMotifs"
   ]
  },
  {
   "cell_type": "code",
   "execution_count": 55,
   "id": "ee89aac9",
   "metadata": {},
   "outputs": [
    {
     "name": "stdout",
     "output_type": "stream",
     "text": [
      "CAG CAG CAA CAA CAA\n"
     ]
    }
   ],
   "source": [
    "dna=[\"GGCGTTCAGGCA\", \"AAGAATCAGTCA\", \"CAAGGAGTTCGC\", \"CACGTCAATCAC\", \"CAATAATATTCG\"]\n",
    "k=3\n",
    "t=5\n",
    "print(*GreedyMotifSearch(dna,3,5))"
   ]
  },
  {
   "cell_type": "markdown",
   "id": "c0edb547",
   "metadata": {},
   "source": [
    "##### Actual Dataset"
   ]
  },
  {
   "cell_type": "code",
   "execution_count": 158,
   "id": "82205f76",
   "metadata": {},
   "outputs": [],
   "source": [
    "#the code below reads the text file and extracts the first row to get the value of k and t\n",
    "with open(\"dataset_159_5.txt\",'r') as file:\n",
    "    f=file.readlines()\n",
    "k,t=f[0].replace('\\n',\"\").split(' ')\n",
    "k=int(k)\n",
    "t=int(t)\n",
    "for i in f[1:]:\n",
    "    dna=i.replace(\"\\n\",'').split(\" \")"
   ]
  },
  {
   "cell_type": "code",
   "execution_count": 159,
   "id": "b6e2f8d2",
   "metadata": {
    "scrolled": true
   },
   "outputs": [
    {
     "name": "stdout",
     "output_type": "stream",
     "text": [
      "TAATGCTCAAAG GTGTAAGCTTTT AAGCTTGCCAGC TGTTCTCTTATT GTATGACTCTTG GGGCACGCATGG TTACCAGTAAGG TAACTAGCTATC TAGCACGCATGT GGGCACGTTTGG GAATGCGTAAGC GGGCACGGATCG AGGTTATGATAT GGGCACTTCTGG ATGTTTGCTTTG GGGCACCCATAG GGGCACCTATTG GGGCACGCCTCG GGATATGTCTGG GGGCACCTATCG TGACCCTTTTGT GGGCACGGATAG GGGCACGCTTGG GGGCACTGATAG AAATACGCATTG\n"
     ]
    }
   ],
   "source": [
    "print(*GreedyMotifSearch(dna,k,t))"
   ]
  },
  {
   "cell_type": "markdown",
   "id": "21c00ade",
   "metadata": {},
   "source": [
    "### Question 5\n",
    "Code Challenge: Implement GreedyMotifSearch with pseudocounts.\n",
    "\n",
    "Input: Integers k and t, followed by a space-separated collection of strings Dna.\n",
    "\n",
    "Output: A collection of strings BestMotifs resulting from applying GreedyMotifSearch(Dna, k, t) with pseudocounts. If at any step you find more than one Profile-most probable k-mer in a given string, use the one occurring first.\n",
    "\n",
    "Sample Input:\n",
    "\n",
    "3 5\n",
    "GGCGTTCAGGCA AAGAATCAGTCA CAAGGAGTTCGC CACGTCAATCAC CAATAATATTCG\n",
    "\n",
    "Sample Output:\n",
    "\n",
    "TTC ATC TTC ATC TTC"
   ]
  },
  {
   "cell_type": "code",
   "execution_count": 161,
   "id": "10e83db7",
   "metadata": {},
   "outputs": [],
   "source": [
    "def Count(Motifs):\n",
    "    count = {} \n",
    "    k = len(Motifs[0])\n",
    "    for symbol in \"ACGT\":\n",
    "        count[symbol] = []\n",
    "        for j in range(k):\n",
    "            count[symbol].append(1)\n",
    "    t = len(Motifs)\n",
    "    for i in range(t):\n",
    "        for j in range(k):\n",
    "            symbol = Motifs[i][j]\n",
    "            count[symbol][j] += 1\n",
    "    return count\n",
    "\n",
    "def Consensus(Motifs):\n",
    "    k = len(Motifs[0])\n",
    "    count = Count(Motifs)\n",
    "    consensus = \"\"\n",
    "    for j in range(k):\n",
    "        m = 0\n",
    "        frequentSymbol = \"\"\n",
    "        for symbol in \"ACGT\":\n",
    "            if count[symbol][j] > m:\n",
    "                m = count[symbol][j]\n",
    "                frequentSymbol = symbol\n",
    "        consensus += frequentSymbol\n",
    "    return consensus\n",
    "\n",
    "def Profile(Motifs):\n",
    "    t = len(Motifs)\n",
    "    k = len(Motifs[0])\n",
    "    profile = Count(Motifs)\n",
    "    for i in 'ACTG':\n",
    "        for j in range(k):\n",
    "            profile[i][j] = profile[i][j]/(t+4)  \n",
    "    return profile\n",
    "\n",
    "def Score(Motifs):\n",
    "    score = 0\n",
    "    k = len(Motifs[0])\n",
    "    count = Count(Motifs)\n",
    "    max_symbol = Consensus(Motifs)\n",
    "    sum1 = 0\n",
    "    for j in range(k):\n",
    "        m = 0\n",
    "        for symbol in \"ATCG\":\n",
    "            if count[symbol][j] > m:\n",
    "                sum1 += count[symbol][j]\n",
    "    for j in range(k):\n",
    "        m = 0\n",
    "        for symbol in \"AGTC\":\n",
    "            if count[symbol][j] > m:\n",
    "                m = count[symbol][j]\n",
    "        score += m  \n",
    "    return sum1-score\n",
    "\n",
    "def Pr(Text, Profile):\n",
    "    p=1\n",
    "    k = len(Profile[\"A\"])\n",
    "    for i in range(len(Text)):\n",
    "        p=p*Profile[Text[i]][i]\n",
    "    return p\n",
    "\n",
    "\n",
    "def ProfileMostProbablePattern(text,k,profile):\n",
    "    p=-1\n",
    "    result=text[0:k]\n",
    "    for i in range(len(text)-k+1):\n",
    "        seq=text[i:i+k]\n",
    "        pr=Pr(seq,profile)\n",
    "        if pr>p:\n",
    "            p=pr\n",
    "            result=seq\n",
    "    return result\n",
    "\n",
    "def GreedyMotifSearchWithPseudocounts(Dna,k,t):\n",
    "    BestMotifs = []\n",
    "    for i in range(0, t):\n",
    "        BestMotifs.append(Dna[i][0:k])\n",
    "    n = len(Dna[0])\n",
    "    for m in range(n-k+1):\n",
    "        Motifs = []\n",
    "        Motifs.append(Dna[0][m:m+k])\n",
    "        for j in range(1, t):\n",
    "            P = Profile(Motifs[0:j])\n",
    "            Motifs.append(ProfileMostProbablePattern(Dna[j], k, P))\n",
    "        if Score(Motifs) < Score(BestMotifs):\n",
    "            BestMotifs = Motifs\n",
    "    return BestMotifs"
   ]
  },
  {
   "cell_type": "code",
   "execution_count": 162,
   "id": "ba8314d3",
   "metadata": {
    "scrolled": true
   },
   "outputs": [
    {
     "data": {
      "text/plain": [
       "['TTC', 'ATC', 'TTC', 'ATC', 'TTC']"
      ]
     },
     "execution_count": 162,
     "metadata": {},
     "output_type": "execute_result"
    }
   ],
   "source": [
    "dna=[\"GGCGTTCAGGCA\", \"AAGAATCAGTCA\", \"CAAGGAGTTCGC\", \"CACGTCAATCAC\", \"CAATAATATTCG\"]\n",
    "k=3\n",
    "t=5\n",
    "GreedyMotifSearchWithPseudocounts(dna,k,t)"
   ]
  },
  {
   "cell_type": "markdown",
   "id": "efcd591e",
   "metadata": {},
   "source": [
    "##### Actual Dataset"
   ]
  },
  {
   "cell_type": "code",
   "execution_count": 163,
   "id": "7fecd166",
   "metadata": {
    "scrolled": true
   },
   "outputs": [
    {
     "name": "stdout",
     "output_type": "stream",
     "text": [
      "ATAAGGTAAATC TTAAGCTGGATC CTAAGATGAATC TTAAGTTAGATC ATAAGTTGAATC GTAAGGTTGATC TTAAGTTGCATC ATAAGATAGATC ATAAGCTGTATC TTAAGGTTCATC GTAAGGTAAATC ATAAGGTTCATC CTAAGATAAATC TTAAGATGGATC GTAAGGTACATC TTAAGCTCGATC ATAAGCTAGATC TTAAGGTAGATC TTAAGCTGCATC TTAAGCTTGATC GTAAGGTGGATC CTAAGATGGATC CTAAGTTCTATC TTAAGTTGAATC GTAAGGTGAATC\n"
     ]
    }
   ],
   "source": [
    "with open(\"dataset_160_9.txt\",'r') as file:\n",
    "    f=file.readlines()\n",
    "k,t=f[0].replace('\\n',\"\").split(' ')\n",
    "k=int(k)\n",
    "t=int(t)\n",
    "for i in f[1:]:\n",
    "    dna=i.replace(\"\\n\",'').split(\" \")\n",
    "print(*GreedyMotifSearchWithPseudocounts(dna,k,t))"
   ]
  },
  {
   "cell_type": "markdown",
   "id": "9602cb13",
   "metadata": {},
   "source": [
    "### Question 6\n",
    "Code Challenge: Implement DistanceBetweenPatternAndStrings.\n",
    "\n",
    "Input: A string Pattern followed by a collection of space-separated strings Dna.\n",
    "\n",
    "Output: d(Pattern, Dna).\n",
    "\n",
    "Sample Input:\n",
    "\n",
    "AAA\n",
    "\n",
    "TTACCTTAAC GATATCTGTC ACGGCGTTCG CCCTAAAGAG CGTCAGAGGT\n",
    "\n",
    "Sample Output:\n",
    "\n",
    "5"
   ]
  },
  {
   "cell_type": "code",
   "execution_count": 172,
   "id": "dec476ff",
   "metadata": {},
   "outputs": [],
   "source": [
    "def hamming_distance(a,b):\n",
    "    answer=sum([1 for i in range(len(a)) if a[i]!=b[i]])\n",
    "    return answer\n",
    "def distance_between_pattern_and_strings(pattern, dna):\n",
    "    k = len(pattern)\n",
    "    distance = 0\n",
    "    for text in dna:\n",
    "        hamming = float('inf')\n",
    "        for i in range(len(text) - k + 1):\n",
    "            pattern_prime = text[i:i + k]\n",
    "            if hamming > hamming_distance(pattern, pattern_prime):\n",
    "                hamming = hamming_distance(pattern, pattern_prime)\n",
    "        distance += hamming\n",
    "    return distance"
   ]
  },
  {
   "cell_type": "code",
   "execution_count": 173,
   "id": "e03905b0",
   "metadata": {},
   "outputs": [
    {
     "data": {
      "text/plain": [
       "5"
      ]
     },
     "execution_count": 173,
     "metadata": {},
     "output_type": "execute_result"
    }
   ],
   "source": [
    "pattern=\"AAA\"\n",
    "dna=[\"TTACCTTAAC\", \"GATATCTGTC\", \"ACGGCGTTCG\", \"CCCTAAAGAG\", \"CGTCAGAGGT\"]\n",
    "DistanceBetweenPatternAndStrings(pattern,dna)"
   ]
  },
  {
   "cell_type": "markdown",
   "id": "56bf0507",
   "metadata": {},
   "source": [
    "##### Actual Dataset"
   ]
  },
  {
   "cell_type": "code",
   "execution_count": 168,
   "id": "38611553",
   "metadata": {},
   "outputs": [],
   "source": [
    "with open (\"dataset_5164_1.txt\",\"r\") as file:\n",
    "    f=file.readlines()"
   ]
  },
  {
   "cell_type": "code",
   "execution_count": 171,
   "id": "5e77fed9",
   "metadata": {},
   "outputs": [
    {
     "data": {
      "text/plain": [
       "73"
      ]
     },
     "execution_count": 171,
     "metadata": {},
     "output_type": "execute_result"
    }
   ],
   "source": [
    "pattern=f[0].replace('\\n',\"\")\n",
    "for i in f[1:]:\n",
    "    dna=i.replace(\"\\n\",'').split(\" \")\n",
    "DistanceBetweenPatternAndStrings(pattern,dna)  "
   ]
  },
  {
   "cell_type": "code",
   "execution_count": 188,
   "id": "e330cfa8",
   "metadata": {},
   "outputs": [
    {
     "name": "stdout",
     "output_type": "stream",
     "text": [
      "CTCGATG\n"
     ]
    }
   ],
   "source": [
    "dna=['CTCGATGAGTAGGAAAGTAGTTTCACTGGGCGAACCACCCCGGCGCTAATCCTAGTGCCC']#,\n",
    "     #'GCAATCCTACCCGAGGCCACATATCAGTAGGAACTAGAACCACCACGGGTGGCTAGTTTC',\n",
    "#'GGTGTTGAACCACGGGGTTAGTTTCATCTATTGTAGGAATCGGCTTCAAATCCTACACAG']\n",
    "print(median_string(dna,7))"
   ]
  },
  {
   "cell_type": "code",
   "execution_count": 190,
   "id": "6453e8d8",
   "metadata": {},
   "outputs": [
    {
     "name": "stdout",
     "output_type": "stream",
     "text": [
      "GCAATCC\n"
     ]
    }
   ],
   "source": [
    "print(median_string([\"GCAATCCTACCCGAGGCCACATATCAGTAGGAACTAGAACCACCACGGGTGGCTAGTTTC\"],7))"
   ]
  },
  {
   "cell_type": "code",
   "execution_count": 191,
   "id": "1ef02b15",
   "metadata": {
    "scrolled": true
   },
   "outputs": [
    {
     "name": "stdout",
     "output_type": "stream",
     "text": [
      "GGTGTTG\n"
     ]
    }
   ],
   "source": [
    "print(median_string([\"GGTGTTGAACCACGGGGTTAGTTTCATCTATTGTAGGAATCGGCTTCAAATCCTACACAG\"],7))"
   ]
  },
  {
   "cell_type": "code",
   "execution_count": null,
   "id": "2153862c",
   "metadata": {},
   "outputs": [],
   "source": [
    "GTAGGAA\n",
    "\n",
    "\n",
    "TCTGAAG\n",
    "\n",
    "\n",
    "CGTGTAA\n",
    "\n",
    "\n",
    "TAGTTTC\n",
    "\n",
    "\n",
    "GATGAGT\n",
    "\n",
    "\n",
    "ATAACGG"
   ]
  }
 ],
 "metadata": {
  "kernelspec": {
   "display_name": "Python 3 (ipykernel)",
   "language": "python",
   "name": "python3"
  },
  "language_info": {
   "codemirror_mode": {
    "name": "ipython",
    "version": 3
   },
   "file_extension": ".py",
   "mimetype": "text/x-python",
   "name": "python",
   "nbconvert_exporter": "python",
   "pygments_lexer": "ipython3",
   "version": "3.9.13"
  }
 },
 "nbformat": 4,
 "nbformat_minor": 5
}
